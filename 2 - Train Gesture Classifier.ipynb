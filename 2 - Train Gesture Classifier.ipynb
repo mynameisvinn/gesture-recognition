{
 "cells": [
  {
   "cell_type": "markdown",
   "metadata": {
    "collapsed": true
   },
   "source": [
    "# step 1: merge dataframes"
   ]
  },
  {
   "cell_type": "code",
   "execution_count": 1,
   "metadata": {
    "collapsed": false
   },
   "outputs": [],
   "source": [
    "import tools\n",
    "import glob\n",
    "import pandas as pd\n",
    "ls_files = glob.glob(\"annotated_data/gesture/*\")"
   ]
  },
  {
   "cell_type": "code",
   "execution_count": 2,
   "metadata": {
    "collapsed": false
   },
   "outputs": [],
   "source": [
    "column_names = pd.read_csv(ls_files[0], delimiter = ',').drop('Unnamed: 0', axis = 1).columns"
   ]
  },
  {
   "cell_type": "code",
   "execution_count": 3,
   "metadata": {
    "collapsed": false
   },
   "outputs": [],
   "source": [
    "# create master df by reading each file, then reassembling\n",
    "\n",
    "import pandas as pd\n",
    "import numpy as np\n",
    "\n",
    "ls_df = map(lambda x: pd.read_csv(x, delimiter=','), ls_files)\n",
    "df = pd.DataFrame(np.vstack(ls_df)).drop(0, axis = 1)\n",
    "df.columns = column_names"
   ]
  },
  {
   "cell_type": "code",
   "execution_count": 4,
   "metadata": {
    "collapsed": false
   },
   "outputs": [],
   "source": [
    "# drop gyro data\n",
    "\n",
    "df = df.drop(['gyroX', 'gyroY','gyroZ'], axis = 1)"
   ]
  },
  {
   "cell_type": "code",
   "execution_count": 5,
   "metadata": {
    "collapsed": false
   },
   "outputs": [
    {
     "data": {
      "text/plain": [
       "(189751, 106)"
      ]
     },
     "execution_count": 5,
     "metadata": {},
     "output_type": "execute_result"
    }
   ],
   "source": [
    "df.shape"
   ]
  },
  {
   "cell_type": "markdown",
   "metadata": {},
   "source": [
    "# step 2: preprocessing\n",
    "\n",
    "treat missing values."
   ]
  },
  {
   "cell_type": "markdown",
   "metadata": {},
   "source": [
    "### 2a) remove \"non-events\"\n",
    "\n",
    "if non-events are not removed, no clean boundary will be created."
   ]
  },
  {
   "cell_type": "code",
   "execution_count": 6,
   "metadata": {
    "collapsed": false
   },
   "outputs": [
    {
     "data": {
      "text/plain": [
       "(9790, 106)"
      ]
     },
     "execution_count": 6,
     "metadata": {},
     "output_type": "execute_result"
    }
   ],
   "source": [
    "# df_events = df\n",
    "df_events = df[df['label'] != \"none\"].reset_index().drop('index', axis = 1)\n",
    "df_events.shape"
   ]
  },
  {
   "cell_type": "code",
   "execution_count": 7,
   "metadata": {
    "collapsed": true
   },
   "outputs": [],
   "source": [
    "# replace infinity with nan - that way we can drop nan's\n",
    "\n",
    "df_events = df_events.replace([np.inf, -np.inf], np.nan)"
   ]
  },
  {
   "cell_type": "code",
   "execution_count": 8,
   "metadata": {
    "collapsed": false
   },
   "outputs": [
    {
     "data": {
      "text/plain": [
       "(9782, 106)"
      ]
     },
     "execution_count": 8,
     "metadata": {},
     "output_type": "execute_result"
    }
   ],
   "source": [
    "# fill in missing entries with its preceding value\n",
    "\n",
    "df_events_filled = df_events.fillna(method='ffill').dropna().reset_index().drop('index', axis = 1)\n",
    "df_events_filled.shape"
   ]
  },
  {
   "cell_type": "code",
   "execution_count": 9,
   "metadata": {
    "collapsed": false
   },
   "outputs": [
    {
     "data": {
      "text/plain": [
       "((9782, 103), (9782,))"
      ]
     },
     "execution_count": 9,
     "metadata": {},
     "output_type": "execute_result"
    }
   ],
   "source": [
    "X = df_events_filled.drop(['ts','label', 'corresponding_file'], axis = 1)\n",
    "y = df_events_filled['label']\n",
    "X.shape, y.shape"
   ]
  },
  {
   "cell_type": "code",
   "execution_count": 10,
   "metadata": {
    "collapsed": false
   },
   "outputs": [
    {
     "data": {
      "text/plain": [
       "((7825, 103), (7825,))"
      ]
     },
     "execution_count": 10,
     "metadata": {},
     "output_type": "execute_result"
    }
   ],
   "source": [
    "from sklearn.cross_validation import train_test_split\n",
    "X_train, X_test, y_train, y_test = train_test_split(X, y, test_size=0.2)\n",
    "X_train.shape, y_train.shape"
   ]
  },
  {
   "cell_type": "markdown",
   "metadata": {},
   "source": [
    "### 2b) data visualization"
   ]
  },
  {
   "cell_type": "markdown",
   "metadata": {},
   "source": [
    "#### view in 2d space"
   ]
  },
  {
   "cell_type": "code",
   "execution_count": 11,
   "metadata": {
    "collapsed": false
   },
   "outputs": [
    {
     "data": {
      "text/plain": [
       "<matplotlib.collections.PathCollection at 0x11cd44450>"
      ]
     },
     "execution_count": 11,
     "metadata": {},
     "output_type": "execute_result"
    },
    {
     "data": {
      "image/png": "[encoded data removed]",
      "text/plain": [
       "<matplotlib.figure.Figure at 0x10c055c10>"
      ]
     },
     "metadata": {},
     "output_type": "display_data"
    }
   ],
   "source": [
    "from sklearn import manifold\n",
    "\n",
    "tsne = manifold.TSNE(n_components=2, init='pca', random_state=0)\n",
    "X_tsne = tsne.fit_transform(X_test)\n",
    "\n",
    "from sklearn.preprocessing import LabelEncoder\n",
    "import matplotlib.pyplot as plt\n",
    "plt.style.use('fivethirtyeight')\n",
    "%matplotlib inline\n",
    "\n",
    "le = LabelEncoder()\n",
    "y_test_factor = le.fit_transform(y_test)\n",
    "plt.scatter(X_tsne[:,0], X_tsne[:,1], c = y_test_factor)"
   ]
  },
  {
   "cell_type": "markdown",
   "metadata": {},
   "source": [
    "#### view correlation map"
   ]
  },
  {
   "cell_type": "code",
   "execution_count": 12,
   "metadata": {
    "collapsed": false
   },
   "outputs": [
    {
     "name": "stderr",
     "output_type": "stream",
     "text": [
      "/Users/Vincent/anaconda/lib/python2.7/site-packages/matplotlib/__init__.py:872: UserWarning: axes.color_cycle is deprecated and replaced with axes.prop_cycle; please use the latter.\n",
      "  warnings.warn(self.msg_depr % (key, alt_key))\n",
      "/Users/Vincent/anaconda/lib/python2.7/site-packages/matplotlib/__init__.py:892: UserWarning: axes.color_cycle is deprecated and replaced with axes.prop_cycle; please use the latter.\n",
      "  warnings.warn(self.msg_depr % (key, alt_key))\n"
     ]
    },
    {
     "data": {
      "text/plain": [
       "<seaborn.axisgrid.PairGrid at 0x10c055490>"
      ]
     },
     "execution_count": 12,
     "metadata": {},
     "output_type": "execute_result"
    },
    {
     "data": {
      "image/png": "[encoded data removed]",
      "text/plain": [
       "<matplotlib.figure.Figure at 0x11ebb5350>"
      ]
     },
     "metadata": {},
     "output_type": "display_data"
    }
   ],
   "source": [
    "import matplotlib.pyplot as plt\n",
    "import seaborn as sns\n",
    "%matplotlib inline\n",
    "\n",
    "sns.pairplot(df_events_filled, vars=['accX', 'accY', 'accZ'], hue='label', size=2)"
   ]
  },
  {
   "cell_type": "markdown",
   "metadata": {},
   "source": [
    "# 3) model evaluation"
   ]
  },
  {
   "cell_type": "markdown",
   "metadata": {},
   "source": [
    "## 3a) random forest"
   ]
  },
  {
   "cell_type": "code",
   "execution_count": 43,
   "metadata": {
    "collapsed": true
   },
   "outputs": [],
   "source": [
    "from sklearn.ensemble import RandomForestClassifier\n",
    "\n",
    "model_rf = RandomForestClassifier(min_samples_split=50)\n"
   ]
  },
  {
   "cell_type": "code",
   "execution_count": 44,
   "metadata": {
    "collapsed": false
   },
   "outputs": [
    {
     "data": {
      "text/plain": [
       "RandomForestClassifier(bootstrap=True, class_weight=None, criterion='gini',\n",
       "            max_depth=None, max_features='auto', max_leaf_nodes=None,\n",
       "            min_samples_leaf=1, min_samples_split=50,\n",
       "            min_weight_fraction_leaf=0.0, n_estimators=10, n_jobs=1,\n",
       "            oob_score=False, random_state=None, verbose=0,\n",
       "            warm_start=False)"
      ]
     },
     "execution_count": 44,
     "metadata": {},
     "output_type": "execute_result"
    }
   ],
   "source": [
    "model_rf.fit(X_train, y_train)"
   ]
  },
  {
   "cell_type": "code",
   "execution_count": 34,
   "metadata": {
    "collapsed": false
   },
   "outputs": [],
   "source": [
    "clf = model_rf.estimators_[0]"
   ]
  },
  {
   "cell_type": "code",
   "execution_count": 57,
   "metadata": {
    "collapsed": false
   },
   "outputs": [],
   "source": [
    "from sklearn.externals.six import StringIO\n",
    "from sklearn import tree\n",
    "with open(\"iris.dot\", 'w') as f:\n",
    "    f = tree.export_graphviz(clf, out_file=f)"
   ]
  },
  {
   "cell_type": "code",
   "execution_count": null,
   "metadata": {
    "collapsed": true
   },
   "outputs": [],
   "source": []
  },
  {
   "cell_type": "code",
   "execution_count": null,
   "metadata": {
    "collapsed": true
   },
   "outputs": [],
   "source": []
  },
  {
   "cell_type": "code",
   "execution_count": 45,
   "metadata": {
    "collapsed": false
   },
   "outputs": [
    {
     "data": {
      "text/plain": [
       "array([[776,   1,  47],\n",
       "       [  6, 417,  13],\n",
       "       [ 78,   1, 618]])"
      ]
     },
     "execution_count": 45,
     "metadata": {},
     "output_type": "execute_result"
    }
   ],
   "source": [
    "from sklearn.metrics import confusion_matrix\n",
    "\n",
    "pred_rf = model_rf.predict(X_test)\n",
    "confusion_matrix(y_test, pred_rf)"
   ]
  },
  {
   "cell_type": "code",
   "execution_count": 46,
   "metadata": {
    "collapsed": false
   },
   "outputs": [
    {
     "data": {
      "text/plain": [
       "Flick        824\n",
       "Snap         697\n",
       "Microflip    436\n",
       "Name: label, dtype: int64"
      ]
     },
     "execution_count": 46,
     "metadata": {},
     "output_type": "execute_result"
    }
   ],
   "source": [
    "y_test.value_counts()"
   ]
  },
  {
   "cell_type": "code",
   "execution_count": 49,
   "metadata": {
    "collapsed": false
   },
   "outputs": [
    {
     "name": "stdout",
     "output_type": "stream",
     "text": [
      "             precision    recall  f1-score   support\n",
      "\n",
      "      Flick       0.90      0.94      0.92       824\n",
      "  Microflip       1.00      0.96      0.98       436\n",
      "       Snap       0.91      0.89      0.90       697\n",
      "\n",
      "avg / total       0.93      0.93      0.93      1957\n",
      "\n"
     ]
    }
   ],
   "source": [
    "from sklearn.metrics import classification_report\n",
    "print classification_report(y_test, pred_rf)"
   ]
  },
  {
   "cell_type": "markdown",
   "metadata": {},
   "source": [
    "### inspect for overfitting"
   ]
  },
  {
   "cell_type": "code",
   "execution_count": 19,
   "metadata": {
    "collapsed": true
   },
   "outputs": [],
   "source": [
    "y_factor = le.fit_transform(y)"
   ]
  },
  {
   "cell_type": "code",
   "execution_count": 20,
   "metadata": {
    "collapsed": false
   },
   "outputs": [
    {
     "data": {
      "text/plain": [
       "(9782, 103)"
      ]
     },
     "execution_count": 20,
     "metadata": {},
     "output_type": "execute_result"
    }
   ],
   "source": [
    "X.shape"
   ]
  },
  {
   "cell_type": "code",
   "execution_count": 21,
   "metadata": {
    "collapsed": false
   },
   "outputs": [
    {
     "data": {
      "text/plain": [
       "<matplotlib.text.Text at 0x121fc95d0>"
      ]
     },
     "execution_count": 21,
     "metadata": {},
     "output_type": "execute_result"
    },
    {
     "data": {
      "image/png": "[encoded data removed]",
      "text/plain": [
       "<matplotlib.figure.Figure at 0x121f57510>"
      ]
     },
     "metadata": {},
     "output_type": "display_data"
    }
   ],
   "source": [
    "from sklearn.learning_curve import learning_curve\n",
    "\n",
    "train_sizes, train_scores, valid_scores = learning_curve(model_rf, X, y_factor, train_sizes=[1000, 3000, 5000, 6000, 6400], cv=5)\n",
    "plt.plot(map(lambda x: x.mean(), train_scores), marker = 'o')\n",
    "plt.plot(map(lambda x: x.mean(), valid_scores), marker = 'o')\n",
    "plt.ylim(0, 1.1)\n",
    "plt.xlim(0, 7)\n",
    "plt.xlabel(\"size of training data\")\n",
    "plt.ylabel(\"accuracy rate\")\n",
    "plt.title(\"cross validation accuracy\")"
   ]
  },
  {
   "cell_type": "code",
   "execution_count": 22,
   "metadata": {
    "collapsed": false
   },
   "outputs": [
    {
     "data": {
      "text/plain": [
       "['models/gesture_filter/gesture_filter_rf.pkl',\n",
       " 'models/gesture_filter/gesture_filter_rf.pkl_01.npy',\n",
       " 'models/gesture_filter/gesture_filter_rf.pkl_02.npy',\n",
       " 'models/gesture_filter/gesture_filter_rf.pkl_03.npy',\n",
       " 'models/gesture_filter/gesture_filter_rf.pkl_04.npy',\n",
       " 'models/gesture_filter/gesture_filter_rf.pkl_05.npy',\n",
       " 'models/gesture_filter/gesture_filter_rf.pkl_06.npy',\n",
       " 'models/gesture_filter/gesture_filter_rf.pkl_07.npy',\n",
       " 'models/gesture_filter/gesture_filter_rf.pkl_08.npy',\n",
       " 'models/gesture_filter/gesture_filter_rf.pkl_09.npy',\n",
       " 'models/gesture_filter/gesture_filter_rf.pkl_10.npy',\n",
       " 'models/gesture_filter/gesture_filter_rf.pkl_11.npy',\n",
       " 'models/gesture_filter/gesture_filter_rf.pkl_12.npy',\n",
       " 'models/gesture_filter/gesture_filter_rf.pkl_13.npy',\n",
       " 'models/gesture_filter/gesture_filter_rf.pkl_14.npy',\n",
       " 'models/gesture_filter/gesture_filter_rf.pkl_15.npy',\n",
       " 'models/gesture_filter/gesture_filter_rf.pkl_16.npy',\n",
       " 'models/gesture_filter/gesture_filter_rf.pkl_17.npy',\n",
       " 'models/gesture_filter/gesture_filter_rf.pkl_18.npy',\n",
       " 'models/gesture_filter/gesture_filter_rf.pkl_19.npy',\n",
       " 'models/gesture_filter/gesture_filter_rf.pkl_20.npy',\n",
       " 'models/gesture_filter/gesture_filter_rf.pkl_21.npy',\n",
       " 'models/gesture_filter/gesture_filter_rf.pkl_22.npy',\n",
       " 'models/gesture_filter/gesture_filter_rf.pkl_23.npy',\n",
       " 'models/gesture_filter/gesture_filter_rf.pkl_24.npy',\n",
       " 'models/gesture_filter/gesture_filter_rf.pkl_25.npy',\n",
       " 'models/gesture_filter/gesture_filter_rf.pkl_26.npy',\n",
       " 'models/gesture_filter/gesture_filter_rf.pkl_27.npy',\n",
       " 'models/gesture_filter/gesture_filter_rf.pkl_28.npy',\n",
       " 'models/gesture_filter/gesture_filter_rf.pkl_29.npy',\n",
       " 'models/gesture_filter/gesture_filter_rf.pkl_30.npy',\n",
       " 'models/gesture_filter/gesture_filter_rf.pkl_31.npy',\n",
       " 'models/gesture_filter/gesture_filter_rf.pkl_32.npy',\n",
       " 'models/gesture_filter/gesture_filter_rf.pkl_33.npy',\n",
       " 'models/gesture_filter/gesture_filter_rf.pkl_34.npy',\n",
       " 'models/gesture_filter/gesture_filter_rf.pkl_35.npy',\n",
       " 'models/gesture_filter/gesture_filter_rf.pkl_36.npy',\n",
       " 'models/gesture_filter/gesture_filter_rf.pkl_37.npy',\n",
       " 'models/gesture_filter/gesture_filter_rf.pkl_38.npy',\n",
       " 'models/gesture_filter/gesture_filter_rf.pkl_39.npy',\n",
       " 'models/gesture_filter/gesture_filter_rf.pkl_40.npy',\n",
       " 'models/gesture_filter/gesture_filter_rf.pkl_41.npy']"
      ]
     },
     "execution_count": 22,
     "metadata": {},
     "output_type": "execute_result"
    }
   ],
   "source": [
    "from sklearn.externals import joblib\n",
    "model_rf.fit(X, y)\n",
    "joblib.dump(model_rf, 'models/gesture_filter/gesture_filter_rf.pkl') "
   ]
  },
  {
   "cell_type": "markdown",
   "metadata": {},
   "source": [
    "### identify important features"
   ]
  },
  {
   "cell_type": "code",
   "execution_count": 23,
   "metadata": {
    "collapsed": false
   },
   "outputs": [
    {
     "name": "stdout",
     "output_type": "stream",
     "text": [
      "magnitude_energy 0.0662445279574\n",
      "----------\n",
      "time_gravity_accX_mean 0.0398856009082\n",
      "----------\n",
      "gravY 0.036196310477\n",
      "----------\n",
      "time_body_accZ_min 0.0314161543825\n",
      "----------\n",
      "gravity_magnitude_energy 0.0297153400367\n",
      "----------\n",
      "time_gravity_accY_std 0.0290510208689\n",
      "----------\n",
      "magnitude 0.0268869844563\n",
      "----------\n",
      "time_gravity_accY_mean 0.0265364895547\n",
      "----------\n",
      "time_grav_magnitude_mean 0.0254231540039\n",
      "----------\n",
      "time_body_accY_jerk_mean 0.0239930520305\n",
      "----------\n"
     ]
    }
   ],
   "source": [
    "importance = model_rf.feature_importances_\n",
    "important_features = np.argsort(importance)[::-1][:10]\n",
    "\n",
    "for idx in important_features:\n",
    "    print X.columns[idx], importance[idx]\n",
    "    print '-' * 10"
   ]
  },
  {
   "cell_type": "markdown",
   "metadata": {},
   "source": [
    "## 3b) neural network"
   ]
  },
  {
   "cell_type": "raw",
   "metadata": {
    "collapsed": false
   },
   "source": [
    "from keras.models import Sequential\n",
    "from keras.layers.core import Dense, Dropout, Activation\n",
    "from keras.optimizers import SGD"
   ]
  },
  {
   "cell_type": "raw",
   "metadata": {
    "collapsed": false
   },
   "source": [
    "from sklearn.preprocessing import StandardScaler\n",
    "scaler = StandardScaler()\n",
    "X_scaled = scaler.fit_transform(X_train)\n",
    "X_scaled.shape, y_train.shape"
   ]
  },
  {
   "cell_type": "raw",
   "metadata": {
    "collapsed": false
   },
   "source": [
    "model = Sequential()\n",
    "\n",
    "# specify input dimensions only for the first layer\n",
    "model.add(Dense(output_dim=200, input_dim=96, init=\"glorot_uniform\"))\n",
    "model.add(Activation(\"tanh\"))\n",
    "model.add(Dropout(0.5)) # include dropout\n",
    "\n",
    "model.add(Dense(100, init='uniform'))\n",
    "model.add(Activation('tanh'))\n",
    "\n",
    "model.add(Dense(50, init='uniform'))\n",
    "model.add(Activation('tanh'))\n",
    "\n",
    "model.add(Dense(25, init='uniform'))\n",
    "model.add(Activation('tanh'))\n",
    "\n",
    "model.add(Dense(output_dim=3, init=\"glorot_uniform\"))\n",
    "model.add(Activation(\"softmax\"))\n",
    "\n",
    "model.compile(loss='categorical_crossentropy', optimizer='sgd')"
   ]
  },
  {
   "cell_type": "raw",
   "metadata": {
    "collapsed": false
   },
   "source": [
    "from sklearn.preprocessing import LabelEncoder\n",
    "\n",
    "le = LabelEncoder()\n",
    "y_train_factor = le.fit_transform(y_train)\n",
    "\n",
    "pd.Series(y_train_factor).value_counts()"
   ]
  },
  {
   "cell_type": "raw",
   "metadata": {
    "collapsed": false
   },
   "source": [
    "# since we're using softmax, classes need to be represented via 1-hot encoding\n",
    "\n",
    "from keras.utils.np_utils import to_categorical\n",
    "y_train_categorical = to_categorical(y_train_factor)\n",
    "y_train_categorical.shape"
   ]
  },
  {
   "cell_type": "raw",
   "metadata": {
    "collapsed": false
   },
   "source": [
    "model.fit(X_scaled, y_train_categorical, nb_epoch=100, batch_size=32)"
   ]
  },
  {
   "cell_type": "raw",
   "metadata": {
    "collapsed": false
   },
   "source": [
    "X_test_scaled = scaler.transform(X_test)\n",
    "y_test_factor = le.transform(y_test)"
   ]
  },
  {
   "cell_type": "raw",
   "metadata": {
    "collapsed": false
   },
   "source": [
    "pred_nn = model.predict_classes(X_test_scaled, batch_size=32)"
   ]
  },
  {
   "cell_type": "raw",
   "metadata": {
    "collapsed": false
   },
   "source": [
    "from sklearn.metrics import classification_report\n",
    "print classification_report(y_test_factor, pred_nn)"
   ]
  },
  {
   "cell_type": "markdown",
   "metadata": {},
   "source": [
    "## 3c) gradient boosted trees"
   ]
  },
  {
   "cell_type": "raw",
   "metadata": {
    "collapsed": true
   },
   "source": [
    "import xgboost as xgb\n",
    "model_gbm = xgb.XGBClassifier(max_depth=4, n_estimators=300, learning_rate=0.05).fit(X_train, y_train)"
   ]
  },
  {
   "cell_type": "raw",
   "metadata": {
    "collapsed": false
   },
   "source": [
    "import xgboost as xgb\n",
    "model_gbm = xgb.XGBClassifier(max_depth=4, n_estimators=300, learning_rate=0.05).fit(X_train, y_train)pred_gbm = model_gbm.predict(X_test)"
   ]
  },
  {
   "cell_type": "raw",
   "metadata": {
    "collapsed": false
   },
   "source": [
    "from sklearn.metrics import classification_report\n",
    "print classification_report(y_test, pred_gbm)"
   ]
  },
  {
   "cell_type": "raw",
   "metadata": {
    "collapsed": false
   },
   "source": [
    "from sklearn.metrics import confusion_matrix\n",
    "\n",
    "print confusion_matrix(y_test, pred_gbm)"
   ]
  },
  {
   "cell_type": "markdown",
   "metadata": {
    "collapsed": true
   },
   "source": [
    "### 3d) SVM"
   ]
  },
  {
   "cell_type": "code",
   "execution_count": 24,
   "metadata": {
    "collapsed": false
   },
   "outputs": [
    {
     "data": {
      "text/plain": [
       "array([[525,   0, 299],\n",
       "       [  5,  70, 361],\n",
       "       [ 73,   1, 623]])"
      ]
     },
     "execution_count": 24,
     "metadata": {},
     "output_type": "execute_result"
    }
   ],
   "source": [
    "from sklearn import svm\n",
    "model_svm = svm.SVC(kernel = 'rbf')\n",
    "from sklearn.metrics import confusion_matrix\n",
    "\n",
    "model_svm.fit(X_train, y_train)\n",
    "pred_svm = model_svm.predict(X_test)\n",
    "\n",
    "confusion_matrix(y_test, pred_svm)"
   ]
  },
  {
   "cell_type": "code",
   "execution_count": 25,
   "metadata": {
    "collapsed": false
   },
   "outputs": [
    {
     "name": "stdout",
     "output_type": "stream",
     "text": [
      "             precision    recall  f1-score   support\n",
      "\n",
      "      Flick       0.87      0.64      0.74       824\n",
      "  Microflip       0.99      0.16      0.28       436\n",
      "       Snap       0.49      0.89      0.63       697\n",
      "\n",
      "avg / total       0.76      0.62      0.60      1957\n",
      "\n"
     ]
    }
   ],
   "source": [
    "from sklearn.metrics import classification_report\n",
    "print classification_report(y_test, pred_svm)"
   ]
  },
  {
   "cell_type": "markdown",
   "metadata": {
    "collapsed": true
   },
   "source": [
    "### 3e) logistic regression"
   ]
  },
  {
   "cell_type": "code",
   "execution_count": 26,
   "metadata": {
    "collapsed": false
   },
   "outputs": [
    {
     "data": {
      "text/plain": [
       "array([[700,   1, 123],\n",
       "       [  6, 426,   4],\n",
       "       [148,   5, 544]])"
      ]
     },
     "execution_count": 26,
     "metadata": {},
     "output_type": "execute_result"
    }
   ],
   "source": [
    "from sklearn.linear_model import LogisticRegression\n",
    "model_lr = LogisticRegression(penalty='l1')\n",
    "model_lr.fit(X_train, y_train)\n",
    "pred_lr = model_lr.predict(X_test)\n",
    "\n",
    "confusion_matrix(y_test, pred_lr)"
   ]
  },
  {
   "cell_type": "code",
   "execution_count": 27,
   "metadata": {
    "collapsed": false
   },
   "outputs": [
    {
     "name": "stdout",
     "output_type": "stream",
     "text": [
      "             precision    recall  f1-score   support\n",
      "\n",
      "      Flick       0.82      0.85      0.83       824\n",
      "  Microflip       0.99      0.98      0.98       436\n",
      "       Snap       0.81      0.78      0.80       697\n",
      "\n",
      "avg / total       0.85      0.85      0.85      1957\n",
      "\n"
     ]
    }
   ],
   "source": [
    "print classification_report(y_test, pred_lr)"
   ]
  },
  {
   "cell_type": "code",
   "execution_count": 28,
   "metadata": {
    "collapsed": false
   },
   "outputs": [
    {
     "data": {
      "text/plain": [
       "['models/gesture_filter/gesture_filter_lr.pkl',\n",
       " 'models/gesture_filter/gesture_filter_lr.pkl_01.npy',\n",
       " 'models/gesture_filter/gesture_filter_lr.pkl_02.npy',\n",
       " 'models/gesture_filter/gesture_filter_lr.pkl_03.npy',\n",
       " 'models/gesture_filter/gesture_filter_lr.pkl_04.npy']"
      ]
     },
     "execution_count": 28,
     "metadata": {},
     "output_type": "execute_result"
    }
   ],
   "source": [
    "model_lr.fit(X, y)\n",
    "joblib.dump(model_lr, 'models/gesture_filter/gesture_filter_lr.pkl') "
   ]
  },
  {
   "cell_type": "code",
   "execution_count": null,
   "metadata": {
    "collapsed": true
   },
   "outputs": [],
   "source": []
  }
 ],
 "metadata": {
  "kernelspec": {
   "display_name": "Python 2",
   "language": "python",
   "name": "python2"
  },
  "language_info": {
   "codemirror_mode": {
    "name": "ipython",
    "version": 2
   },
   "file_extension": ".py",
   "mimetype": "text/x-python",
   "name": "python",
   "nbconvert_exporter": "python",
   "pygments_lexer": "ipython2",
   "version": "2.7.11"
  }
 },
 "nbformat": 4,
 "nbformat_minor": 0
}
