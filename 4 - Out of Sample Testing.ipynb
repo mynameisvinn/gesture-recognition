{
 "cells": [
  {
   "cell_type": "code",
   "execution_count": 57,
   "metadata": {
    "collapsed": false
   },
   "outputs": [],
   "source": [
    "from sklearn.externals import joblib\n",
    "import pandas as pd\n",
    "import numpy as np\n",
    "import tools\n",
    "import matplotlib.pyplot as plt\n",
    "plt.style.use('fivethirtyeight')\n",
    "%matplotlib inline"
   ]
  },
  {
   "cell_type": "code",
   "execution_count": 58,
   "metadata": {
    "collapsed": false,
    "scrolled": true
   },
   "outputs": [
    {
     "name": "stdout",
     "output_type": "stream",
     "text": [
      "identified event at  133\n",
      "identified event at  346\n",
      "identified event at  559\n",
      "identified event at  773\n",
      "identified event at  988\n",
      "identified event at  1182\n",
      "identified event at  1406\n",
      "identified event at  1613\n",
      "identified event at  1854\n",
      "identified event at  2067\n",
      "number of events:  10\n"
     ]
    }
   ],
   "source": [
    "filepath = 'test_data/annotated_oob_Snap_-5_5_ios_raw_dj_snap_data.1454698138.248183.txt'\n",
    "test_df = pd.read_csv(filepath, delimiter=',').drop(['Unnamed: 0', 'ts', 'gyroX', 'gyroY', 'gyroZ', \"label\", 'corresponding_file'], axis = 1)\n",
    "test_df = test_df.fillna(method='ffill').dropna()\n",
    "ls_frames, ls_df = tools.detect_events(100, test_df, 0, 0, 60)"
   ]
  },
  {
   "cell_type": "code",
   "execution_count": 59,
   "metadata": {
    "collapsed": false
   },
   "outputs": [
    {
     "data": {
      "text/plain": [
       "<matplotlib.text.Text at 0x111a9c890>"
      ]
     },
     "execution_count": 59,
     "metadata": {},
     "output_type": "execute_result"
    },
    {
     "data": {
      "image/png": "[encoded data removed]",
      "text/plain": [
       "<matplotlib.figure.Figure at 0x1126f02d0>"
      ]
     },
     "metadata": {},
     "output_type": "display_data"
    }
   ],
   "source": [
    "plt.ylim(0, 10)\n",
    "plt.plot(test_df['magnitude'])\n",
    "plt.axvline(1826, color='red')\n",
    "plt.title('magnitude plot')"
   ]
  },
  {
   "cell_type": "markdown",
   "metadata": {},
   "source": [
    "# 2) event detection"
   ]
  },
  {
   "cell_type": "code",
   "execution_count": 60,
   "metadata": {
    "collapsed": false
   },
   "outputs": [
    {
     "name": "stdout",
     "output_type": "stream",
     "text": [
      "frame:  0  | prediction:  activity    1\n",
      "dtype: float64\n",
      "----------------------------------------------------------------------------------------------------\n",
      "frame:  1  | prediction:  activity    1\n",
      "dtype: float64\n",
      "----------------------------------------------------------------------------------------------------\n",
      "frame:  2  | prediction:  activity    1\n",
      "dtype: float64\n",
      "----------------------------------------------------------------------------------------------------\n",
      "frame:  3  | prediction:  activity    1\n",
      "dtype: float64\n",
      "----------------------------------------------------------------------------------------------------\n",
      "frame:  4  | prediction:  activity    1\n",
      "dtype: float64\n",
      "----------------------------------------------------------------------------------------------------\n",
      "frame:  5  | prediction:  activity    1\n",
      "dtype: float64\n",
      "----------------------------------------------------------------------------------------------------\n",
      "frame:  6  | prediction:  activity    1\n",
      "dtype: float64\n",
      "----------------------------------------------------------------------------------------------------\n",
      "frame:  7  | prediction:  activity    1\n",
      "dtype: float64\n",
      "----------------------------------------------------------------------------------------------------\n",
      "frame:  8  | prediction:  activity    1\n",
      "dtype: float64\n",
      "----------------------------------------------------------------------------------------------------\n",
      "frame:  9  | prediction:  activity    1\n",
      "dtype: float64\n",
      "----------------------------------------------------------------------------------------------------\n"
     ]
    }
   ],
   "source": [
    "my_event_classifier = joblib.load('models/event_filter/event_filter.pkl') \n",
    "tools.apply_gesture_model(ls_df, my_event_classifier)"
   ]
  },
  {
   "cell_type": "markdown",
   "metadata": {},
   "source": [
    "# 3) gesture classification"
   ]
  },
  {
   "cell_type": "code",
   "execution_count": 61,
   "metadata": {
    "collapsed": false,
    "scrolled": true
   },
   "outputs": [
    {
     "name": "stdout",
     "output_type": "stream",
     "text": [
      "frame:  0  | prediction:  Snap     0.818182\n",
      "Flick    0.181818\n",
      "dtype: float64\n",
      "----------------------------------------------------------------------------------------------------\n",
      "frame:  1  | prediction:  Snap     0.909091\n",
      "Flick    0.090909\n",
      "dtype: float64\n",
      "----------------------------------------------------------------------------------------------------\n",
      "frame:  2  | prediction:  Snap     0.818182\n",
      "Flick    0.181818\n",
      "dtype: float64\n",
      "----------------------------------------------------------------------------------------------------\n",
      "frame:  3  | prediction:  Snap     0.636364\n",
      "Flick    0.363636\n",
      "dtype: float64\n",
      "----------------------------------------------------------------------------------------------------\n",
      "frame:  4  | prediction:  Snap     0.818182\n",
      "Flick    0.181818\n",
      "dtype: float64\n",
      "----------------------------------------------------------------------------------------------------\n",
      "frame:  5  | prediction:  Snap     0.545455\n",
      "Flick    0.454545\n",
      "dtype: float64\n",
      "----------------------------------------------------------------------------------------------------\n",
      "frame:  6  | prediction:  Snap     0.727273\n",
      "Flick    0.272727\n",
      "dtype: float64\n",
      "----------------------------------------------------------------------------------------------------\n",
      "frame:  7  | prediction:  Snap         0.909091\n",
      "Microflip    0.090909\n",
      "dtype: float64\n",
      "----------------------------------------------------------------------------------------------------\n",
      "frame:  8  | prediction:  Snap     0.909091\n",
      "Flick    0.090909\n",
      "dtype: float64\n",
      "----------------------------------------------------------------------------------------------------\n",
      "frame:  9  | prediction:  Snap     0.818182\n",
      "Flick    0.181818\n",
      "dtype: float64\n",
      "----------------------------------------------------------------------------------------------------\n"
     ]
    }
   ],
   "source": [
    "my_gesture_classifier = joblib.load('models/gesture_filter/gesture_filter_lr.pkl') \n",
    "tools.apply_gesture_model(ls_df, my_gesture_classifier)"
   ]
  },
  {
   "cell_type": "code",
   "execution_count": 62,
   "metadata": {
    "collapsed": false
   },
   "outputs": [
    {
     "data": {
      "text/plain": [
       "<matplotlib.lines.Line2D at 0x113db2d10>"
      ]
     },
     "execution_count": 62,
     "metadata": {},
     "output_type": "execute_result"
    },
    {
     "data": {
      "image/png": "[encoded data removed]",
      "text/plain": [
       "<matplotlib.figure.Figure at 0x1120143d0>"
      ]
     },
     "metadata": {},
     "output_type": "display_data"
    }
   ],
   "source": [
    "sample_frame = ls_df[4]\n",
    "peak = np.argmax(sample_frame['magnitude'])\n",
    "\n",
    "plt.ylim(0, 6)\n",
    "plt.plot(sample_frame['magnitude'])\n",
    "plt.axvline(peak, color='red')"
   ]
  },
  {
   "cell_type": "code",
   "execution_count": 63,
   "metadata": {
    "collapsed": false
   },
   "outputs": [
    {
     "data": {
      "text/plain": [
       "Snap     0.818182\n",
       "Flick    0.181818\n",
       "dtype: float64"
      ]
     },
     "execution_count": 63,
     "metadata": {},
     "output_type": "execute_result"
    }
   ],
   "source": [
    "pd.Series(my_gesture_classifier.predict(sample_frame.ix[(peak-5):(peak + 5),:])).value_counts(normalize = True)"
   ]
  },
  {
   "cell_type": "code",
   "execution_count": 64,
   "metadata": {
    "collapsed": false
   },
   "outputs": [
    {
     "data": {
      "text/plain": [
       "0      Snap\n",
       "1     Flick\n",
       "2     Flick\n",
       "3      Snap\n",
       "4      Snap\n",
       "5      Snap\n",
       "6      Snap\n",
       "7      Snap\n",
       "8      Snap\n",
       "9      Snap\n",
       "10     Snap\n",
       "dtype: object"
      ]
     },
     "execution_count": 64,
     "metadata": {},
     "output_type": "execute_result"
    }
   ],
   "source": [
    "pd.Series(my_gesture_classifier.predict(sample_frame.ix[(peak-5):(peak+5),:]))"
   ]
  },
  {
   "cell_type": "code",
   "execution_count": null,
   "metadata": {
    "collapsed": true
   },
   "outputs": [],
   "source": []
  },
  {
   "cell_type": "code",
   "execution_count": null,
   "metadata": {
    "collapsed": true
   },
   "outputs": [],
   "source": []
  }
 ],
 "metadata": {
  "kernelspec": {
   "display_name": "Python 2",
   "language": "python",
   "name": "python2"
  },
  "language_info": {
   "codemirror_mode": {
    "name": "ipython",
    "version": 2
   },
   "file_extension": ".py",
   "mimetype": "text/x-python",
   "name": "python",
   "nbconvert_exporter": "python",
   "pygments_lexer": "ipython2",
   "version": "2.7.11"
  }
 },
 "nbformat": 4,
 "nbformat_minor": 0
}
