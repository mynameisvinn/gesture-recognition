{
 "cells": [
  {
   "cell_type": "code",
   "execution_count": 23,
   "metadata": {
    "collapsed": false
   },
   "outputs": [],
   "source": [
    "import pandas as pd\n",
    "\n",
    "filename = '_dj_snap_data.1454698138.248183.txt'\n",
    "\n",
    "gesture_type = pd.read_csv(filename, nrows=0).columns[0]\n",
    "data = pd.read_csv(filename, skiprows = 1, delimiter = '|')\n",
    "data.columns = ['ts', 'raw_accX', 'raw_accY', 'raw_accZ']\n",
    "data.ix[0, :] = 0"
   ]
  },
  {
   "cell_type": "code",
   "execution_count": 24,
   "metadata": {
    "collapsed": false
   },
   "outputs": [
    {
     "name": "stdout",
     "output_type": "stream",
     "text": [
      "Snap\n"
     ]
    }
   ],
   "source": [
    "print gesture_type"
   ]
  },
  {
   "cell_type": "code",
   "execution_count": 26,
   "metadata": {
    "collapsed": false
   },
   "outputs": [
    {
     "data": {
      "text/html": [
       "<div>\n",
       "<table border=\"1\" class=\"dataframe\">\n",
       "  <thead>\n",
       "    <tr style=\"text-align: right;\">\n",
       "      <th></th>\n",
       "      <th>ts</th>\n",
       "      <th>raw_accX</th>\n",
       "      <th>raw_accY</th>\n",
       "      <th>raw_accZ</th>\n",
       "    </tr>\n",
       "  </thead>\n",
       "  <tbody>\n",
       "    <tr>\n",
       "      <th>count</th>\n",
       "      <td>2152.000000</td>\n",
       "      <td>2152.000000</td>\n",
       "      <td>2152.000000</td>\n",
       "      <td>2152.000000</td>\n",
       "    </tr>\n",
       "    <tr>\n",
       "      <th>mean</th>\n",
       "      <td>0.019931</td>\n",
       "      <td>0.000061</td>\n",
       "      <td>0.000115</td>\n",
       "      <td>0.000016</td>\n",
       "    </tr>\n",
       "    <tr>\n",
       "      <th>std</th>\n",
       "      <td>0.000011</td>\n",
       "      <td>0.111034</td>\n",
       "      <td>0.222437</td>\n",
       "      <td>0.323255</td>\n",
       "    </tr>\n",
       "    <tr>\n",
       "      <th>min</th>\n",
       "      <td>0.019897</td>\n",
       "      <td>-1.163375</td>\n",
       "      <td>-2.816406</td>\n",
       "      <td>-5.447235</td>\n",
       "    </tr>\n",
       "    <tr>\n",
       "      <th>25%</th>\n",
       "      <td>0.019928</td>\n",
       "      <td>-0.005528</td>\n",
       "      <td>-0.008361</td>\n",
       "      <td>-0.006855</td>\n",
       "    </tr>\n",
       "    <tr>\n",
       "      <th>50%</th>\n",
       "      <td>0.019928</td>\n",
       "      <td>-0.000473</td>\n",
       "      <td>-0.000473</td>\n",
       "      <td>0.000435</td>\n",
       "    </tr>\n",
       "    <tr>\n",
       "      <th>75%</th>\n",
       "      <td>0.019928</td>\n",
       "      <td>0.005119</td>\n",
       "      <td>0.007649</td>\n",
       "      <td>0.006870</td>\n",
       "    </tr>\n",
       "    <tr>\n",
       "      <th>max</th>\n",
       "      <td>0.020018</td>\n",
       "      <td>1.563141</td>\n",
       "      <td>3.073273</td>\n",
       "      <td>2.962677</td>\n",
       "    </tr>\n",
       "  </tbody>\n",
       "</table>\n",
       "</div>"
      ],
      "text/plain": [
       "                ts     raw_accX     raw_accY     raw_accZ\n",
       "count  2152.000000  2152.000000  2152.000000  2152.000000\n",
       "mean      0.019931     0.000061     0.000115     0.000016\n",
       "std       0.000011     0.111034     0.222437     0.323255\n",
       "min       0.019897    -1.163375    -2.816406    -5.447235\n",
       "25%       0.019928    -0.005528    -0.008361    -0.006855\n",
       "50%       0.019928    -0.000473    -0.000473     0.000435\n",
       "75%       0.019928     0.005119     0.007649     0.006870\n",
       "max       0.020018     1.563141     3.073273     2.962677"
      ]
     },
     "execution_count": 26,
     "metadata": {},
     "output_type": "execute_result"
    }
   ],
   "source": [
    "pd.rolling_apply(data, 2, lambda x: x[1] - x[0]).drop([0,1], axis = 0).describe()"
   ]
  },
  {
   "cell_type": "code",
   "execution_count": 27,
   "metadata": {
    "collapsed": true
   },
   "outputs": [],
   "source": [
    "data['gravX'] = 0\n",
    "data['gravY'] = 0\n",
    "data['gravZ'] = 0\n",
    "data['raw_accX'] *= 10\n",
    "data['raw_accY'] *= 10\n",
    "data['raw_accZ'] *= 10"
   ]
  },
  {
   "cell_type": "code",
   "execution_count": 28,
   "metadata": {
    "collapsed": true
   },
   "outputs": [],
   "source": [
    "a = .75"
   ]
  },
  {
   "cell_type": "code",
   "execution_count": 29,
   "metadata": {
    "collapsed": false
   },
   "outputs": [],
   "source": [
    "for idx in range(1, data.shape[0]):\n",
    "\n",
    "    data.ix[idx, 'gravX'] = (a * data.ix[(idx - 1), 'gravX']) + ((1 - a) * data.ix[idx, 'raw_accX'])\n",
    "    data.ix[idx, 'gravY'] = (a * data.ix[(idx - 1), 'gravY']) + ((1 - a) * data.ix[idx, 'raw_accY'])\n",
    "    data.ix[idx, 'gravZ'] = (a * data.ix[(idx - 1), 'gravZ']) + ((1 - a) * data.ix[idx, 'raw_accZ'])"
   ]
  },
  {
   "cell_type": "code",
   "execution_count": 31,
   "metadata": {
    "collapsed": true
   },
   "outputs": [],
   "source": [
    "data['accX'] = data['raw_accX'] - data['gravX']\n",
    "data['accY'] = data['raw_accY'] - data['gravY']\n",
    "data['accZ'] = data['raw_accZ'] - data['gravZ']"
   ]
  },
  {
   "cell_type": "code",
   "execution_count": 33,
   "metadata": {
    "collapsed": false
   },
   "outputs": [],
   "source": [
    "data['body_magnitude'] = ((data['accX']**2) + (data['accY']**2) + (data['accZ'] ** 2)) ** .5"
   ]
  },
  {
   "cell_type": "code",
   "execution_count": 34,
   "metadata": {
    "collapsed": false
   },
   "outputs": [
    {
     "data": {
      "text/plain": [
       "[<matplotlib.lines.Line2D at 0x10b069950>]"
      ]
     },
     "execution_count": 34,
     "metadata": {},
     "output_type": "execute_result"
    },
    {
     "data": {
      "image/png": "[encoded data removed]",
      "text/plain": [
       "<matplotlib.figure.Figure at 0x10e4d1d90>"
      ]
     },
     "metadata": {},
     "output_type": "display_data"
    }
   ],
   "source": [
    "import matplotlib.pyplot as plt\n",
    "\n",
    "\n",
    "%matplotlib inline\n",
    "plt.plot(data['body_magnitude'])"
   ]
  },
  {
   "cell_type": "code",
   "execution_count": 35,
   "metadata": {
    "collapsed": true
   },
   "outputs": [],
   "source": [
    "import matplotlib.pyplot as plt\n",
    "%matplotlib inline"
   ]
  },
  {
   "cell_type": "code",
   "execution_count": 36,
   "metadata": {
    "collapsed": false
   },
   "outputs": [
    {
     "data": {
      "text/plain": [
       "[<matplotlib.lines.Line2D at 0x10e5a11d0>]"
      ]
     },
     "execution_count": 36,
     "metadata": {},
     "output_type": "execute_result"
    },
    {
     "data": {
      "image/png": "[encoded data removed]",
      "text/plain": [
       "<matplotlib.figure.Figure at 0x10e781f50>"
      ]
     },
     "metadata": {},
     "output_type": "display_data"
    }
   ],
   "source": [
    "plt.plot(data.ix[:300, 'body_magnitude'])"
   ]
  },
  {
   "cell_type": "code",
   "execution_count": 37,
   "metadata": {
    "collapsed": false
   },
   "outputs": [
    {
     "data": {
      "text/plain": [
       "[<matplotlib.lines.Line2D at 0x10e70cfd0>]"
      ]
     },
     "execution_count": 37,
     "metadata": {},
     "output_type": "execute_result"
    },
    {
     "data": {
      "image/png": "[encoded data removed]",
      "text/plain": [
       "<matplotlib.figure.Figure at 0x10e5ad950>"
      ]
     },
     "metadata": {},
     "output_type": "display_data"
    }
   ],
   "source": [
    "plt.ylim(0, 15)\n",
    "plt.plot(data.ix[600:800, 'body_magnitude'])"
   ]
  },
  {
   "cell_type": "code",
   "execution_count": 38,
   "metadata": {
    "collapsed": false
   },
   "outputs": [],
   "source": [
    "data = data.drop(['body_magnitude'], axis = 1)"
   ]
  },
  {
   "cell_type": "code",
   "execution_count": 39,
   "metadata": {
    "collapsed": false,
    "scrolled": true
   },
   "outputs": [
    {
     "data": {
      "text/html": [
       "<div>\n",
       "<table border=\"1\" class=\"dataframe\">\n",
       "  <thead>\n",
       "    <tr style=\"text-align: right;\">\n",
       "      <th></th>\n",
       "      <th>ts</th>\n",
       "      <th>raw_accX</th>\n",
       "      <th>raw_accY</th>\n",
       "      <th>raw_accZ</th>\n",
       "      <th>gravX</th>\n",
       "      <th>gravY</th>\n",
       "      <th>gravZ</th>\n",
       "      <th>accX</th>\n",
       "      <th>accY</th>\n",
       "      <th>accZ</th>\n",
       "    </tr>\n",
       "  </thead>\n",
       "  <tbody>\n",
       "    <tr>\n",
       "      <th>0</th>\n",
       "      <td>0.000000</td>\n",
       "      <td>0.00000</td>\n",
       "      <td>0.00000</td>\n",
       "      <td>0.00000</td>\n",
       "      <td>0.000000</td>\n",
       "      <td>0.000000</td>\n",
       "      <td>0.000000</td>\n",
       "      <td>0.000000</td>\n",
       "      <td>0.000000</td>\n",
       "      <td>0.000000</td>\n",
       "    </tr>\n",
       "    <tr>\n",
       "      <th>1</th>\n",
       "      <td>19308.473259</td>\n",
       "      <td>0.60196</td>\n",
       "      <td>-0.79300</td>\n",
       "      <td>-10.03098</td>\n",
       "      <td>0.150490</td>\n",
       "      <td>-0.198250</td>\n",
       "      <td>-2.507745</td>\n",
       "      <td>0.451470</td>\n",
       "      <td>-0.594750</td>\n",
       "      <td>-7.523235</td>\n",
       "    </tr>\n",
       "    <tr>\n",
       "      <th>2</th>\n",
       "      <td>19308.493187</td>\n",
       "      <td>0.59143</td>\n",
       "      <td>-0.88120</td>\n",
       "      <td>-9.99680</td>\n",
       "      <td>0.260725</td>\n",
       "      <td>-0.368987</td>\n",
       "      <td>-4.380009</td>\n",
       "      <td>0.330705</td>\n",
       "      <td>-0.512212</td>\n",
       "      <td>-5.616791</td>\n",
       "    </tr>\n",
       "    <tr>\n",
       "      <th>3</th>\n",
       "      <td>19308.513115</td>\n",
       "      <td>0.62622</td>\n",
       "      <td>-0.80811</td>\n",
       "      <td>-9.95758</td>\n",
       "      <td>0.352099</td>\n",
       "      <td>-0.478768</td>\n",
       "      <td>-5.774402</td>\n",
       "      <td>0.274121</td>\n",
       "      <td>-0.329342</td>\n",
       "      <td>-4.183178</td>\n",
       "    </tr>\n",
       "    <tr>\n",
       "      <th>4</th>\n",
       "      <td>19308.533043</td>\n",
       "      <td>0.56808</td>\n",
       "      <td>-0.74371</td>\n",
       "      <td>-9.98611</td>\n",
       "      <td>0.406094</td>\n",
       "      <td>-0.545004</td>\n",
       "      <td>-6.827329</td>\n",
       "      <td>0.161986</td>\n",
       "      <td>-0.198706</td>\n",
       "      <td>-3.158781</td>\n",
       "    </tr>\n",
       "  </tbody>\n",
       "</table>\n",
       "</div>"
      ],
      "text/plain": [
       "             ts  raw_accX  raw_accY  raw_accZ     gravX     gravY     gravZ  \\\n",
       "0      0.000000   0.00000   0.00000   0.00000  0.000000  0.000000  0.000000   \n",
       "1  19308.473259   0.60196  -0.79300 -10.03098  0.150490 -0.198250 -2.507745   \n",
       "2  19308.493187   0.59143  -0.88120  -9.99680  0.260725 -0.368987 -4.380009   \n",
       "3  19308.513115   0.62622  -0.80811  -9.95758  0.352099 -0.478768 -5.774402   \n",
       "4  19308.533043   0.56808  -0.74371  -9.98611  0.406094 -0.545004 -6.827329   \n",
       "\n",
       "       accX      accY      accZ  \n",
       "0  0.000000  0.000000  0.000000  \n",
       "1  0.451470 -0.594750 -7.523235  \n",
       "2  0.330705 -0.512212 -5.616791  \n",
       "3  0.274121 -0.329342 -4.183178  \n",
       "4  0.161986 -0.198706 -3.158781  "
      ]
     },
     "execution_count": 39,
     "metadata": {},
     "output_type": "execute_result"
    }
   ],
   "source": [
    "data.head()"
   ]
  },
  {
   "cell_type": "code",
   "execution_count": 40,
   "metadata": {
    "collapsed": true
   },
   "outputs": [],
   "source": [
    "data = data[['ts', 'accX', 'accY', 'accZ', 'gravX', 'gravY', 'gravZ', 'raw_accX', 'raw_accY', 'raw_accZ']] "
   ]
  },
  {
   "cell_type": "code",
   "execution_count": 41,
   "metadata": {
    "collapsed": false
   },
   "outputs": [
    {
     "data": {
      "text/html": [
       "<div>\n",
       "<table border=\"1\" class=\"dataframe\">\n",
       "  <thead>\n",
       "    <tr style=\"text-align: right;\">\n",
       "      <th></th>\n",
       "      <th>ts</th>\n",
       "      <th>accX</th>\n",
       "      <th>accY</th>\n",
       "      <th>accZ</th>\n",
       "      <th>gravX</th>\n",
       "      <th>gravY</th>\n",
       "      <th>gravZ</th>\n",
       "      <th>raw_accX</th>\n",
       "      <th>raw_accY</th>\n",
       "      <th>raw_accZ</th>\n",
       "    </tr>\n",
       "  </thead>\n",
       "  <tbody>\n",
       "    <tr>\n",
       "      <th>0</th>\n",
       "      <td>0.000000</td>\n",
       "      <td>0.000000</td>\n",
       "      <td>0.000000</td>\n",
       "      <td>0.000000</td>\n",
       "      <td>0.000000</td>\n",
       "      <td>0.000000</td>\n",
       "      <td>0.000000</td>\n",
       "      <td>0.00000</td>\n",
       "      <td>0.00000</td>\n",
       "      <td>0.00000</td>\n",
       "    </tr>\n",
       "    <tr>\n",
       "      <th>1</th>\n",
       "      <td>19308.473259</td>\n",
       "      <td>0.451470</td>\n",
       "      <td>-0.594750</td>\n",
       "      <td>-7.523235</td>\n",
       "      <td>0.150490</td>\n",
       "      <td>-0.198250</td>\n",
       "      <td>-2.507745</td>\n",
       "      <td>0.60196</td>\n",
       "      <td>-0.79300</td>\n",
       "      <td>-10.03098</td>\n",
       "    </tr>\n",
       "    <tr>\n",
       "      <th>2</th>\n",
       "      <td>19308.493187</td>\n",
       "      <td>0.330705</td>\n",
       "      <td>-0.512212</td>\n",
       "      <td>-5.616791</td>\n",
       "      <td>0.260725</td>\n",
       "      <td>-0.368987</td>\n",
       "      <td>-4.380009</td>\n",
       "      <td>0.59143</td>\n",
       "      <td>-0.88120</td>\n",
       "      <td>-9.99680</td>\n",
       "    </tr>\n",
       "    <tr>\n",
       "      <th>3</th>\n",
       "      <td>19308.513115</td>\n",
       "      <td>0.274121</td>\n",
       "      <td>-0.329342</td>\n",
       "      <td>-4.183178</td>\n",
       "      <td>0.352099</td>\n",
       "      <td>-0.478768</td>\n",
       "      <td>-5.774402</td>\n",
       "      <td>0.62622</td>\n",
       "      <td>-0.80811</td>\n",
       "      <td>-9.95758</td>\n",
       "    </tr>\n",
       "    <tr>\n",
       "      <th>4</th>\n",
       "      <td>19308.533043</td>\n",
       "      <td>0.161986</td>\n",
       "      <td>-0.198706</td>\n",
       "      <td>-3.158781</td>\n",
       "      <td>0.406094</td>\n",
       "      <td>-0.545004</td>\n",
       "      <td>-6.827329</td>\n",
       "      <td>0.56808</td>\n",
       "      <td>-0.74371</td>\n",
       "      <td>-9.98611</td>\n",
       "    </tr>\n",
       "  </tbody>\n",
       "</table>\n",
       "</div>"
      ],
      "text/plain": [
       "             ts      accX      accY      accZ     gravX     gravY     gravZ  \\\n",
       "0      0.000000  0.000000  0.000000  0.000000  0.000000  0.000000  0.000000   \n",
       "1  19308.473259  0.451470 -0.594750 -7.523235  0.150490 -0.198250 -2.507745   \n",
       "2  19308.493187  0.330705 -0.512212 -5.616791  0.260725 -0.368987 -4.380009   \n",
       "3  19308.513115  0.274121 -0.329342 -4.183178  0.352099 -0.478768 -5.774402   \n",
       "4  19308.533043  0.161986 -0.198706 -3.158781  0.406094 -0.545004 -6.827329   \n",
       "\n",
       "   raw_accX  raw_accY  raw_accZ  \n",
       "0   0.00000   0.00000   0.00000  \n",
       "1   0.60196  -0.79300 -10.03098  \n",
       "2   0.59143  -0.88120  -9.99680  \n",
       "3   0.62622  -0.80811  -9.95758  \n",
       "4   0.56808  -0.74371  -9.98611  "
      ]
     },
     "execution_count": 41,
     "metadata": {},
     "output_type": "execute_result"
    }
   ],
   "source": [
    "data.head()"
   ]
  },
  {
   "cell_type": "code",
   "execution_count": 42,
   "metadata": {
    "collapsed": true
   },
   "outputs": [],
   "source": [
    "data.columns = ['ts', 'accX', 'accY', 'accZ', 'gravX', 'gravY', 'gravZ', 'gyroX', 'gyroY', 'gyroZ']"
   ]
  },
  {
   "cell_type": "code",
   "execution_count": 43,
   "metadata": {
    "collapsed": false,
    "scrolled": true
   },
   "outputs": [
    {
     "data": {
      "text/html": [
       "<div>\n",
       "<table border=\"1\" class=\"dataframe\">\n",
       "  <thead>\n",
       "    <tr style=\"text-align: right;\">\n",
       "      <th></th>\n",
       "      <th>ts</th>\n",
       "      <th>accX</th>\n",
       "      <th>accY</th>\n",
       "      <th>accZ</th>\n",
       "      <th>gravX</th>\n",
       "      <th>gravY</th>\n",
       "      <th>gravZ</th>\n",
       "      <th>gyroX</th>\n",
       "      <th>gyroY</th>\n",
       "      <th>gyroZ</th>\n",
       "    </tr>\n",
       "  </thead>\n",
       "  <tbody>\n",
       "    <tr>\n",
       "      <th>0</th>\n",
       "      <td>0.000000</td>\n",
       "      <td>0.000000</td>\n",
       "      <td>0.000000</td>\n",
       "      <td>0.000000</td>\n",
       "      <td>0.000000</td>\n",
       "      <td>0.000000</td>\n",
       "      <td>0.000000</td>\n",
       "      <td>0.00000</td>\n",
       "      <td>0.00000</td>\n",
       "      <td>0.00000</td>\n",
       "    </tr>\n",
       "    <tr>\n",
       "      <th>1</th>\n",
       "      <td>19308.473259</td>\n",
       "      <td>0.451470</td>\n",
       "      <td>-0.594750</td>\n",
       "      <td>-7.523235</td>\n",
       "      <td>0.150490</td>\n",
       "      <td>-0.198250</td>\n",
       "      <td>-2.507745</td>\n",
       "      <td>0.60196</td>\n",
       "      <td>-0.79300</td>\n",
       "      <td>-10.03098</td>\n",
       "    </tr>\n",
       "    <tr>\n",
       "      <th>2</th>\n",
       "      <td>19308.493187</td>\n",
       "      <td>0.330705</td>\n",
       "      <td>-0.512212</td>\n",
       "      <td>-5.616791</td>\n",
       "      <td>0.260725</td>\n",
       "      <td>-0.368987</td>\n",
       "      <td>-4.380009</td>\n",
       "      <td>0.59143</td>\n",
       "      <td>-0.88120</td>\n",
       "      <td>-9.99680</td>\n",
       "    </tr>\n",
       "    <tr>\n",
       "      <th>3</th>\n",
       "      <td>19308.513115</td>\n",
       "      <td>0.274121</td>\n",
       "      <td>-0.329342</td>\n",
       "      <td>-4.183178</td>\n",
       "      <td>0.352099</td>\n",
       "      <td>-0.478768</td>\n",
       "      <td>-5.774402</td>\n",
       "      <td>0.62622</td>\n",
       "      <td>-0.80811</td>\n",
       "      <td>-9.95758</td>\n",
       "    </tr>\n",
       "    <tr>\n",
       "      <th>4</th>\n",
       "      <td>19308.533043</td>\n",
       "      <td>0.161986</td>\n",
       "      <td>-0.198706</td>\n",
       "      <td>-3.158781</td>\n",
       "      <td>0.406094</td>\n",
       "      <td>-0.545004</td>\n",
       "      <td>-6.827329</td>\n",
       "      <td>0.56808</td>\n",
       "      <td>-0.74371</td>\n",
       "      <td>-9.98611</td>\n",
       "    </tr>\n",
       "  </tbody>\n",
       "</table>\n",
       "</div>"
      ],
      "text/plain": [
       "             ts      accX      accY      accZ     gravX     gravY     gravZ  \\\n",
       "0      0.000000  0.000000  0.000000  0.000000  0.000000  0.000000  0.000000   \n",
       "1  19308.473259  0.451470 -0.594750 -7.523235  0.150490 -0.198250 -2.507745   \n",
       "2  19308.493187  0.330705 -0.512212 -5.616791  0.260725 -0.368987 -4.380009   \n",
       "3  19308.513115  0.274121 -0.329342 -4.183178  0.352099 -0.478768 -5.774402   \n",
       "4  19308.533043  0.161986 -0.198706 -3.158781  0.406094 -0.545004 -6.827329   \n",
       "\n",
       "     gyroX    gyroY     gyroZ  \n",
       "0  0.00000  0.00000   0.00000  \n",
       "1  0.60196 -0.79300 -10.03098  \n",
       "2  0.59143 -0.88120  -9.99680  \n",
       "3  0.62622 -0.80811  -9.95758  \n",
       "4  0.56808 -0.74371  -9.98611  "
      ]
     },
     "execution_count": 43,
     "metadata": {},
     "output_type": "execute_result"
    }
   ],
   "source": [
    "data.head()"
   ]
  },
  {
   "cell_type": "code",
   "execution_count": 44,
   "metadata": {
    "collapsed": true
   },
   "outputs": [],
   "source": [
    "new_filename = \"ios_raw\" + filename\n",
    "\n",
    "data.to_csv(new_filename, sep = '|', index=False)"
   ]
  },
  {
   "cell_type": "code",
   "execution_count": null,
   "metadata": {
    "collapsed": true
   },
   "outputs": [],
   "source": []
  }
 ],
 "metadata": {
  "kernelspec": {
   "display_name": "Python 2",
   "language": "python",
   "name": "python2"
  },
  "language_info": {
   "codemirror_mode": {
    "name": "ipython",
    "version": 2
   },
   "file_extension": ".py",
   "mimetype": "text/x-python",
   "name": "python",
   "nbconvert_exporter": "python",
   "pygments_lexer": "ipython2",
   "version": "2.7.11"
  }
 },
 "nbformat": 4,
 "nbformat_minor": 0
}
